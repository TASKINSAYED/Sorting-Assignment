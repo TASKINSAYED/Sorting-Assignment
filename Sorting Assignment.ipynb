{
 "cells": [
  {
   "cell_type": "code",
   "execution_count": 17,
   "id": "dc3529f4-d2e0-49e2-964c-4e8c32c51892",
   "metadata": {},
   "outputs": [
    {
     "name": "stdout",
     "output_type": "stream",
     "text": [
      "Most frequent no. is: 30\n"
     ]
    }
   ],
   "source": [
    "##Answers of Problem:-\n",
    "#1)\n",
    "def mostFrequent(arr, n): \n",
    "    Hash = dict() \n",
    "    for i in range(n): \n",
    "        if arr[i] in Hash.keys(): \n",
    "            Hash[arr[i]] += 1\n",
    "        else: \n",
    "            Hash[arr[i]] = 1\n",
    "\n",
    "    max_count = 0\n",
    "    result = -1\n",
    "    for i in Hash:  \n",
    "        if (max_count < Hash[i]):  \n",
    "            result = i \n",
    "            max_count = Hash[i] \n",
    "          \n",
    "    return result\n",
    "  \n",
    "# Driver Code \n",
    "arr = [ 40,50,30,40,50,30,30]  \n",
    "n = len(arr) \n",
    "#print(mostFrequent(arr, n)) \n",
    "print(\"Most frequent no. is:\", mostFrequent(arr, n)) \n"
   ]
  },
  {
   "cell_type": "code",
   "execution_count": 16,
   "id": "51cb27d3-0251-4b41-8245-ae191e89eaa0",
   "metadata": {},
   "outputs": [
    {
     "name": "stdout",
     "output_type": "stream",
     "text": [
      "Missing number is: 5\n"
     ]
    }
   ],
   "source": [
    "#2)\n",
    "def find_missing_number(arr):\n",
    "    n = len(arr) + 1\n",
    "    hash_set = set(arr)\n",
    " \n",
    "    for i in range(1, n):\n",
    "        if i not in hash_set:\n",
    "            return i\n",
    " \n",
    "    return n\n",
    " \n",
    "arr = [1, 2, 4, 6, 3, 7, 8]\n",
    "missing_number = find_missing_number(arr)\n",
    "print(\"Missing number is:\", missing_number)"
   ]
  },
  {
   "cell_type": "code",
   "execution_count": 2,
   "id": "c778211c-ba24-430e-a040-de49c8bb9e26",
   "metadata": {},
   "outputs": [
    {
     "name": "stdout",
     "output_type": "stream",
     "text": [
      "3\n"
     ]
    }
   ],
   "source": [
    "#3)\n",
    "def getOddOccurrence(arr, arr_size):\n",
    "     \n",
    "    for i in range(0,arr_size):\n",
    "        count = 0\n",
    "        for j in range(0, arr_size):\n",
    "            if arr[i] == arr[j]:\n",
    "                count+=1\n",
    "             \n",
    "        if (count % 2 != 0):\n",
    "            return arr[i]\n",
    "         \n",
    "    return -1\n",
    "     \n",
    "     \n",
    "# driver code \n",
    "arr = [1,2,3,2,3,1,3]\n",
    "n = len(arr)\n",
    "print(getOddOccurrence(arr, n))"
   ]
  },
  {
   "cell_type": "code",
   "execution_count": 4,
   "id": "ce6efbcb-4680-464a-b8bb-11f746f62b11",
   "metadata": {},
   "outputs": [
    {
     "name": "stdout",
     "output_type": "stream",
     "text": [
      "Pair elements are 4 and 11\n"
     ]
    }
   ],
   "source": [
    "#4)\n",
    "def checkPair(arr, n):\n",
    "    s = set()\n",
    "    sum = 0\n",
    " \n",
    "    for i in range(n):\n",
    "        sum += arr[i]\n",
    "    if sum % 2 != 0:\n",
    "        return False\n",
    "    sum = sum / 2\n",
    "    for i in range(n):\n",
    "        val = sum - arr[i]\n",
    "        if arr[i] not in s:\n",
    "            s.add(arr[i])\n",
    "        if val in s:\n",
    "            print(\"Pair elements are\", \n",
    "                   arr[i], \"and\", int(val))\n",
    "\n",
    "arr = [2, 11, 5, 1, 4, 7]\n",
    "n = len(arr)\n",
    "if checkPair(arr, n) == False:\n",
    "    print(\"No pair found\")\n"
   ]
  },
  {
   "cell_type": "code",
   "execution_count": 5,
   "id": "618bafd7-6d52-4534-8c7f-3b01beea12b8",
   "metadata": {},
   "outputs": [
    {
     "name": "stdout",
     "output_type": "stream",
     "text": [
      "The two elements whose sum is minimum are -80 and  85\n"
     ]
    }
   ],
   "source": [
    "#5)\n",
    "def minAbsSumPair(arr,arr_size):\n",
    "    inv_count = 0\n",
    " \n",
    "    # Array should have at least\n",
    "    # two elements\n",
    "    if arr_size < 2:\n",
    "        print(\"Invalid Input\")\n",
    "        return\n",
    " \n",
    "    # Initialization of values \n",
    "    min_l = 0\n",
    "    min_r = 1\n",
    "    min_sum = arr[0] + arr[1]\n",
    "    for l in range (0, arr_size - 1):\n",
    "        for r in range (l + 1, arr_size):\n",
    "            sum = arr[l] + arr[r]                 \n",
    "            if abs(min_sum) > abs(sum):         \n",
    "                min_sum = sum\n",
    "                min_l = l\n",
    "                min_r = r\n",
    " \n",
    "    print(\"The two elements whose sum is minimum are\", \n",
    "            arr[min_l], \"and \", arr[min_r])\n",
    " \n",
    "# Driver program to test above function \n",
    "arr = [1, 60, -10, 70, -80, 85]\n",
    " \n",
    "minAbsSumPair(arr, 6);"
   ]
  },
  {
   "cell_type": "code",
   "execution_count": 6,
   "id": "5c6edf53-e182-405d-8268-d5b6b79c8e91",
   "metadata": {},
   "outputs": [
    {
     "name": "stdout",
     "output_type": "stream",
     "text": [
      "Found 3 elements whose sum is = 21\n",
      "Elements are 7 4 10\n"
     ]
    }
   ],
   "source": [
    "#6)\n",
    "def find(arr, k):\n",
    "    for i in range(len(arr)):\n",
    "        for j in range(i + 1, len(arr)):\n",
    "            for l in range(j + 1, len(arr)):\n",
    "                if arr[i] + arr[j] + arr[l] == k:\n",
    "                    print(f\"Found 3 elements whose sum is = {k}\")\n",
    "                    print(f\"Elements are {arr[i]} {arr[j]} {arr[l]}\")\n",
    "                    return\n",
    "\n",
    "    print(f\"Did not find 3 elements whose sum is = {k}\")\n",
    "\n",
    "\n",
    "arr = [3, 1, 7, 4, 5, 9, 10]\n",
    "k = 21\n",
    "find(arr, k)"
   ]
  },
  {
   "cell_type": "code",
   "execution_count": 2,
   "id": "a2aa94a9-615f-4d1f-b789-446db9c573b7",
   "metadata": {},
   "outputs": [
    {
     "name": "stdout",
     "output_type": "stream",
     "text": [
      "three elements found: (3, 4, 5)\n"
     ]
    }
   ],
   "source": [
    "#7)\n",
    "def find_three_elements(arr):\n",
    "    n = len(arr)\n",
    "\n",
    "    for i in range(n):\n",
    "        for j in range(i+1, n):\n",
    "            for k in range(j+1, n):\n",
    "                if arr[i] * arr[i] + arr[j] * arr[j] == arr[k] * arr[k]:\n",
    "                    return arr[i], arr[j], arr[k]\n",
    "\n",
    "    return None\n",
    "\n",
    "\n",
    "arr = [3, 4, 5, 6, 8, 10]\n",
    "result = find_three_elements(arr)\n",
    "\n",
    "if result:\n",
    "    print(\"three elements found:\", result)\n",
    "else:\n",
    "    print(\"No elements found.\")\n"
   ]
  },
  {
   "cell_type": "code",
   "execution_count": 8,
   "id": "361a9fa6-72b4-4e83-bd2e-dad0750d0b2e",
   "metadata": {},
   "outputs": [
    {
     "name": "stdout",
     "output_type": "stream",
     "text": [
      "1\n"
     ]
    }
   ],
   "source": [
    "#8)\n",
    "def findMajority(arr, n):\n",
    " \n",
    "    maxCount = 0\n",
    "    index = -1\n",
    "    for i in range(n):\n",
    " \n",
    "        count = 1\n",
    "        for j in range(i+1, n):\n",
    " \n",
    "            if(arr[i] == arr[j]):\n",
    "                count += 1\n",
    " \n",
    "        if(count > maxCount):\n",
    " \n",
    "            maxCount = count\n",
    "            index = i\n",
    " \n",
    "    if (maxCount > n//2):\n",
    "        print(arr[index])\n",
    " \n",
    "    else:\n",
    "        print(\"No Majority Element\")\n",
    " \n",
    " \n",
    "if __name__ == \"__main__\":\n",
    "    arr = [1, 1, 2, 1, 3, 5, 1]\n",
    "    n = len(arr)\n",
    " \n",
    "    findMajority(arr, n)"
   ]
  },
  {
   "cell_type": "code",
   "execution_count": 3,
   "id": "694b4269-cf91-4894-8340-79b6ec4bd5c0",
   "metadata": {},
   "outputs": [
    {
     "name": "stdout",
     "output_type": "stream",
     "text": [
      "Row with the maximum number of 0's: 0\n"
     ]
    }
   ],
   "source": [
    "#9)\n",
    "def find_max_zeros_row(matrix):\n",
    "    max_zeros_row = -1\n",
    "    max_zeros_count = -1\n",
    "\n",
    "    for i, row in enumerate(matrix):\n",
    "        zeros_count = binary_search_count(row, 0)\n",
    "        if zeros_count > max_zeros_count:\n",
    "            max_zeros_count = zeros_count\n",
    "            max_zeros_row = i\n",
    "\n",
    "    return max_zeros_row\n",
    "\n",
    "def binary_search_count(row, target):\n",
    "    low, high = 0, len(row) - 1\n",
    "\n",
    "    while low <= high:\n",
    "        mid = (low + high) // 2\n",
    "\n",
    "        if row[mid] == target:\n",
    "            low = mid + 1\n",
    "        else:\n",
    "            high = mid - 1\n",
    "\n",
    "    return len(row) - low\n",
    "\n",
    "\n",
    "matrix = [\n",
    "    [1, 1, 1, 0, 0],\n",
    "    [1, 1, 0, 0, 0],\n",
    "    [1, 0, 0, 0, 0],\n",
    "    [1, 1, 1, 1, 0],\n",
    "    [1, 1, 1, 0, 0]\n",
    "]\n",
    "\n",
    "result = find_max_zeros_row(matrix)\n",
    "print(\"Row with the maximum number of 0's:\", result)\n",
    "\n"
   ]
  },
  {
   "cell_type": "code",
   "execution_count": 5,
   "id": "5699c00e-d816-49b6-b32c-28a8f441819a",
   "metadata": {},
   "outputs": [
    {
     "name": "stdout",
     "output_type": "stream",
     "text": [
      "[0, 0, 0, 0, 0, 1, 1, 1, 1, 1, 2, 2]\n"
     ]
    }
   ],
   "source": [
    "#10)\n",
    "def sortColors(nums):\n",
    "    low, mid, high = 0, 0, len(nums) - 1\n",
    "\n",
    "    while mid <= high:\n",
    "        if nums[mid] == 0:\n",
    "            nums[low], nums[mid] = nums[mid], nums[low]\n",
    "            low += 1\n",
    "            mid += 1\n",
    "        elif nums[mid] == 1:\n",
    "            mid += 1\n",
    "        else:\n",
    "            nums[mid], nums[high] = nums[high], nums[mid]\n",
    "            high -= 1\n",
    "\n",
    "\n",
    "input_array = [0, 1, 1, 0, 1, 2, 1, 2, 0, 0, 0, 1]\n",
    "sortColors(input_array)\n",
    "print(input_array)\n"
   ]
  },
  {
   "cell_type": "code",
   "execution_count": null,
   "id": "218f0d07-a7a8-4037-a6d3-f2926e1728e6",
   "metadata": {},
   "outputs": [],
   "source": []
  }
 ],
 "metadata": {
  "kernelspec": {
   "display_name": "Python 3 (ipykernel)",
   "language": "python",
   "name": "python3"
  },
  "language_info": {
   "codemirror_mode": {
    "name": "ipython",
    "version": 3
   },
   "file_extension": ".py",
   "mimetype": "text/x-python",
   "name": "python",
   "nbconvert_exporter": "python",
   "pygments_lexer": "ipython3",
   "version": "3.10.8"
  }
 },
 "nbformat": 4,
 "nbformat_minor": 5
}
